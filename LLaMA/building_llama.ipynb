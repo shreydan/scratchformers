{
 "cells": [
  {
   "cell_type": "markdown",
   "id": "138b36b4",
   "metadata": {},
   "source": [
    "- https://blog.briankitano.com/llama-from-scratch/\n",
    "- https://github.com/Lightning-AI/lit-llama/blob/main/lit_llama/model.py\n",
    "- https://github.com/facebookresearch/llama/blob/main/llama/model.py\n",
    "- https://github.com/huggingface/transformers/blob/main/src/transformers/models/llama/modeling_llama.py"
   ]
  },
  {
   "cell_type": "code",
   "execution_count": 3,
   "id": "9ae4eaf4",
   "metadata": {},
   "outputs": [],
   "source": [
    "import torch\n",
    "import torch.nn as nn\n",
    "import torch.nn.functional as F\n",
    "\n",
    "from dataclasses import dataclass"
   ]
  },
  {
   "cell_type": "code",
   "execution_count": 4,
   "id": "1a8235bd",
   "metadata": {},
   "outputs": [],
   "source": [
    "@dataclass\n",
    "class Config:\n",
    "    dim = 256\n",
    "    hidden_dim = int(8*dim / 3)\n",
    "    hidden_dim = hidden_dim + 256 - (hidden_dim % 256) # make it multiple of 256\n",
    "    n_heads = 8\n",
    "    n_kv_heads = 4\n",
    "    attn_bias = False\n",
    "    max_pos_embeds = 256"
   ]
  },
  {
   "cell_type": "code",
   "execution_count": 5,
   "id": "9a0136a8",
   "metadata": {},
   "outputs": [],
   "source": [
    "class MLP(nn.Module):\n",
    "    def __init__(self, config):\n",
    "        super().__init__()\n",
    "        self.dim = config.dim\n",
    "        self.hidden_dim = config.hidden_dim\n",
    "        \n",
    "        self.fc1 = nn.Linear(self.dim, self.hidden_dim, bias=False)\n",
    "        self.fc2 = nn.Linear(self.dim, self.hidden_dim, bias=False)\n",
    "        self.proj = nn.Linear(self.hidden_dim, self.dim, bias=False)\n",
    "        \n",
    "    def forward(self, x):\n",
    "        x = F.silu(self.fc1(x)) * self.fc2(x)\n",
    "        return self.proj(x)"
   ]
  },
  {
   "cell_type": "markdown",
   "id": "c4959891",
   "metadata": {},
   "source": [
    "### Root Mean Square Normalization\n",
    "\n",
    "$$\\bar{a}_i = \\frac{a_i}{\\text{RMS}(a)}g_i \\\\\n",
    "\\text{RMS}(a) = \\sqrt{\\frac{1}{n}\\sum_{i=1}^{n}a_i^2}\n",
    "$$"
   ]
  },
  {
   "cell_type": "code",
   "execution_count": 6,
   "id": "435516d7",
   "metadata": {},
   "outputs": [],
   "source": [
    "class RMSNorm(nn.Module):\n",
    "    def __init__(self, dim, eps=1e-5):\n",
    "        super().__init__()\n",
    "        self.g = nn.Parameter(torch.ones(dim))\n",
    "        self.eps = eps\n",
    "        \n",
    "    def _norm(self,x):\n",
    "        ms = x.pow(2).mean(-1,keepdim=True) + self.eps # ms(a)\n",
    "        return x * torch.rsqrt(ms) # 1/rms(a)\n",
    "        \n",
    "    def forward(self, x):\n",
    "        x = self._norm(x.float()).to(dtype=x.dtype)\n",
    "        return self.g * x"
   ]
  },
  {
   "cell_type": "markdown",
   "id": "3a25e495",
   "metadata": {},
   "source": [
    "### Rotary Positional Embeddings (RoPE)"
   ]
  },
  {
   "cell_type": "code",
   "execution_count": 13,
   "id": "c9279334",
   "metadata": {},
   "outputs": [],
   "source": [
    "class RoPE(nn.Module):\n",
    "    def __init__(self, dim, max_positions, base=10_000, scaling_factor = 1.0):\n",
    "        super().__init__()\n",
    "        self.dim = dim\n",
    "        self.max_positions = max_positions\n",
    "        self.base = base\n",
    "        self.scaling_factor = scaling_factor\n",
    "        \n",
    "        inv_freq = 1.0 / (self.base ** (torch.arange(0,self.dim,2).float() / self.dim))\n",
    "        self.register_buffer('inv_freq',inv_freq)\n",
    "        \n",
    "        self.seq_len_cache = None\n",
    "        self.sin_cache = None\n",
    "        self.cos_cache = None\n",
    "        \n",
    "    def _create_cache(self, seq_len, device, dtype):\n",
    "        self.max_seq_len_cached = seq_len\n",
    "        \n",
    "        freqs = torch.outer(t, self.inv_freq)\n",
    "        \n",
    "        emb = torch.cat([freqs,freqs],dim=-1)\n",
    "        self.register_buffer('sin_cache',emb.sin().to(dtype))\n",
    "        self.register_buffer('cos_cache',emb.cos().to(dtype))\n",
    "        \n",
    "    def forward(self, position_ids, seq_len, device, dtype):\n",
    "        # x: B x nH x T x H\n",
    "        \n",
    "        if seq_len != self.seq_len_cache:\n",
    "            self.seq_len_cache = seq_len\n",
    "            t = torch.arange(self.seq_len_cache, device=device).type_as(self.inv_freq)\n",
    "            t = t / self.scaling_factor\n",
    "            freqs = self.inv_freq[:, None].float().expand(-1, position_ids.shape[0]) @ position_ids.float()\n",
    "            freqs = freqs.t()\n",
    "            emb = torch.cat([freqs, freqs],dim=-1)\n",
    "            \n",
    "            \n",
    "        return emb.cos().type_as(x), emb.sin().type_as(x)\n",
    "    \n",
    "    def _rotate_half(self, x):\n",
    "        x1 = x[..., : x.shape[-1] // 2]\n",
    "        x2 = x[..., x.shape[-1] // 2 :]\n",
    "        return torch.cat([-x2,x1],dim=-1)\n",
    "    \n",
    "    def apply(self, x, cos, sin, position_ids):\n",
    "        \"\"\"\n",
    "        x: q or k tensor : [b, nH, T, H]\n",
    "        cos[position_ids], sin[position_ids] : [b, T, H]\n",
    "        \"\"\"\n",
    "        \n",
    "        return x*cos + (self._rotate_half(x) * sin)"
   ]
  },
  {
   "cell_type": "code",
   "execution_count": null,
   "id": "64a64f37",
   "metadata": {},
   "outputs": [],
   "source": [
    "class CausalSelfAttention(nn.Module):\n",
    "    def __init__(self, config):\n",
    "        super().__init__()\n",
    "        \n",
    "        self.dropout = config.attention_dropout\n",
    "        self.dim = config.dim\n",
    "        self.num_heads = config.num_heads\n",
    "        self.head_dim = self.dim // self.num_heads\n",
    "        self.max_positions = config.max_positions\n",
    "        self.rope_theta = config.rope_theta\n",
    "        self.scaling_factor = config.scaling_factor\n",
    "        \n",
    "        self.qkv = nn.Linear(self.dim, self.dim*3, bias=False)\n",
    "        self.proj = nn.Linear(self.dim, self.dim, bias=False)\n",
    "        \n",
    "        self.rope = RoPE(\n",
    "            dim=self.head_dim,\n",
    "            base=self.rope_theta,\n",
    "            scaling_factor=self.scaling_factor\n",
    "        )\n",
    "        \n",
    "    def forward(self, x, mask, position_ids):\n",
    "        \n",
    "        B,T,C = x.shape\n",
    "        \n",
    "        q,k,v = self.qkv(x).split(3,dim=-1)\n",
    "        # B, T, nH, H\n",
    "        q = q.reshape(B,T,self.num_heads,self.head_dim).transpose(1,2)\n",
    "        k = k.reshape(B,T,self.num_heads,self.head_dim).transpose(1,2)\n",
    "        v = v.reshape(B,T,self.num_heads,self.head_dim).transpose(1,2)\n",
    "        \n",
    "        cos, sin = self.rope(q, )"
   ]
  },
  {
   "cell_type": "code",
   "execution_count": null,
   "id": "e058289f",
   "metadata": {},
   "outputs": [],
   "source": []
  }
 ],
 "metadata": {
  "kernelspec": {
   "display_name": "Python 3 (ipykernel)",
   "language": "python",
   "name": "python3"
  },
  "language_info": {
   "codemirror_mode": {
    "name": "ipython",
    "version": 3
   },
   "file_extension": ".py",
   "mimetype": "text/x-python",
   "name": "python",
   "nbconvert_exporter": "python",
   "pygments_lexer": "ipython3",
   "version": "3.10.13"
  }
 },
 "nbformat": 4,
 "nbformat_minor": 5
}
